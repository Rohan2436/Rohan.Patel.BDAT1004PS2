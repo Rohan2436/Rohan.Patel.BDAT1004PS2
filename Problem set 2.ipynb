{
 "cells": [
  {
   "cell_type": "markdown",
   "id": "9d0ed4e2",
   "metadata": {},
   "source": [
    "\n",
    "# Name : Rohan Patel\n",
    "# Course : BDAT\n",
    "# Subject : Data Programming 1004-02\n",
    "# Professor : Ethan D. Davis"
   ]
  },
  {
   "cell_type": "markdown",
   "id": "368caa53",
   "metadata": {},
   "source": [
    "## <font color='Purple'> Question 1 Consider the following Python module:</font>"
   ]
  },
  {
   "cell_type": "code",
   "execution_count": 1,
   "id": "2aab8078",
   "metadata": {},
   "outputs": [],
   "source": [
    "a = 0\n",
    "\n",
    "def b():\n",
    "\tglobal a\n",
    "\ta = c(a)\n",
    "    \n",
    "def c(a):\n",
    "\treturn a + 2"
   ]
  },
  {
   "cell_type": "markdown",
   "id": "f8748b38",
   "metadata": {},
   "source": [
    "## After importing the module into the interpreter, you execute:"
   ]
  },
  {
   "cell_type": "code",
   "execution_count": 2,
   "id": "1373c81a",
   "metadata": {},
   "outputs": [
    {
     "data": {
      "text/plain": [
       "6"
      ]
     },
     "execution_count": 2,
     "metadata": {},
     "output_type": "execute_result"
    }
   ],
   "source": [
    "b()\n",
    "b()\n",
    "b()\n",
    "a"
   ]
  },
  {
   "cell_type": "markdown",
   "id": "9a132e4e",
   "metadata": {},
   "source": [
    "## What value is displayed when the last expression (a) is evaluated? Explain your answer by indicating what happens in every executed statement."
   ]
  },
  {
   "cell_type": "markdown",
   "id": "07ea0aae",
   "metadata": {},
   "source": [
    "### <font color=\"Green\"> Answer: </font>"
   ]
  },
  {
   "cell_type": "markdown",
   "id": "7ec736d6",
   "metadata": {},
   "source": [
    "\n",
    "###  <font color=\"Green\">  The module is imported and the variable a is initialized to 0. </font>\n",
    "###  <font color=\"Green\">  The function b is defined. When b is called, it uses the global keyword to indicate that it wants to modify the global variable a, not a local variable. It then calls the function c with the current value of a as an argument, and assigns the result back to a. </font>\n",
    "###  <font color=\"Green\">  The function c takes a parameter a and returns the value of a plus 2. </font>\n",
    "###  <font color=\"Green\">  The first call to b modifies the value of a from 0 to 2. </font>\n",
    "###  <font color=\"Green\">  The second call to b modifies the value of a from 2 to 4. </font>\n",
    "###  <font color=\"Green\">  The third call to b modifies the value of a from 4 to 6. </font>\n",
    "###  <font color=\"Green\">  When the last expression a is evaluated, it returns the current value of a, which is 6. </font>"
   ]
  },
  {
   "cell_type": "markdown",
   "id": "d97ac80c",
   "metadata": {},
   "source": [
    "## <font color='Purple'> Question-2 : Function fileLength(), given to you, takes the name of a file as input and returns the length of the file:</font>"
   ]
  },
  {
   "cell_type": "markdown",
   "id": "f9e3d7d9",
   "metadata": {},
   "source": [
    "###  >>> fileLength('midterm.py')<br> 284 <br> >>> fileLength('idterm.py')<br> Traceback (most recent call last):<br> File \"<pyshell#34>\", line 1, in \\<module\\><br> fileLength('idterm.py')<br> File \"/Users/me/midterm.py\", line 3, in<br> fileLength<br> infile = open(filename)<br> FileNotFoundError: [Errno 2] No such file or directory:<br> 'idterm.py'<br>\n",
    "\n",
    "## <font color=\"Purple\"> As shown above, if the file cannot be found by the interpreter or if it cannot be read<br> as a text file, an exception will be raised.<br> Modify function fileLength() so that a <br>friendly message is printed instead: </font>"
   ]
  },
  {
   "cell_type": "code",
   "execution_count": 3,
   "id": "f8b0900a",
   "metadata": {},
   "outputs": [
    {
     "data": {
      "text/plain": [
       "396"
      ]
     },
     "execution_count": 3,
     "metadata": {},
     "output_type": "execute_result"
    }
   ],
   "source": [
    "import Filelength\n",
    "\n",
    "Filelength.filelength('w3c.html')"
   ]
  },
  {
   "cell_type": "code",
   "execution_count": 4,
   "id": "f5659597",
   "metadata": {},
   "outputs": [
    {
     "name": "stdout",
     "output_type": "stream",
     "text": [
      "File idterm.py not found.\n"
     ]
    }
   ],
   "source": [
    "Filelength.filelength('idterm.py')"
   ]
  },
  {
   "cell_type": "markdown",
   "id": "d7c6b6c7",
   "metadata": {},
   "source": [
    "## <font color='Purple'>Question-3 : Write a class named Marsupial that can be used as shown below:</font>"
   ]
  },
  {
   "cell_type": "code",
   "execution_count": 5,
   "id": "0cc36138",
   "metadata": {},
   "outputs": [],
   "source": [
    "class Marsupial:\n",
    "    def __init__(self):\n",
    "        self.pouch = []\n",
    "    \n",
    "    def put_in_pouch(self, item):\n",
    "        self.pouch.append(item)\n",
    "        \n",
    "    def pouch_contents(self):\n",
    "        return self.pouch\n",
    "    \n",
    "\n",
    "class Kangaroo(Marsupial):\n",
    "    def __init__(self, x, y):\n",
    "        super().__init__()\n",
    "        self.x = x\n",
    "        self.y = y\n",
    "    \n",
    "    def jump(self, dx, dy):\n",
    "        self.x += dx\n",
    "        self.y += dy\n",
    "    \n",
    "    def __str__(self):\n",
    "        return f\"I am a Kangaroo located at coordinates ({self.x},{self.y})\"\n",
    "\n",
    "    "
   ]
  },
  {
   "cell_type": "code",
   "execution_count": 6,
   "id": "26ee12b6",
   "metadata": {},
   "outputs": [
    {
     "name": "stdout",
     "output_type": "stream",
     "text": [
      "I am a Kangaroo located at coordinates (0,0)\n",
      "['doll', 'firetruck', 'kitten']\n",
      "I am a Kangaroo located at coordinates (3,0)\n"
     ]
    }
   ],
   "source": [
    "# create a Kangaroo object\n",
    "k = Kangaroo(0, 0)\n",
    "\n",
    "# print the Kangaroo object (uses the __str__ method)\n",
    "print(k)\n",
    "\n",
    "# put some items in the pouch\n",
    "k.put_in_pouch('doll')\n",
    "k.put_in_pouch('firetruck')\n",
    "k.put_in_pouch('kitten')\n",
    "\n",
    "# retrieve the items in the pouch\n",
    "print(k.pouch_contents())\n",
    "\n",
    "# make the kangaroo jump a few times\n",
    "k.jump(1, 0)\n",
    "k.jump(1, 0)\n",
    "k.jump(1, 0)\n",
    "\n",
    "# print the Kangaroo object again (uses the updated __str__ method)\n",
    "print(k)\n"
   ]
  },
  {
   "cell_type": "markdown",
   "id": "55f77ed4",
   "metadata": {},
   "source": [
    "## <font color='Purple'> Question-4 : Write function collatz() that takes a positive integer x as input and prints the Collatz sequence starting at x. A Collatz sequence is obtained by repeatedly applying this rule to the previous number x in the sequence:</font>\n",
    "\n",
    " ## <font color='Purple'>x = { 𝑥/2 𝑖𝑓 𝑥 𝑖𝑠 𝑒𝑣𝑒𝑛 | 3𝑥+1 𝑖𝑓 𝑥 𝑖𝑠 𝑜𝑑𝑑</font>\n",
    " \n",
    "## <font color='Purple'> Your function should stop when the sequence gets to number 1. Your implementation must be recursive, without any loops.</font>"
   ]
  },
  {
   "cell_type": "code",
   "execution_count": 7,
   "id": "fa38490d",
   "metadata": {},
   "outputs": [],
   "source": [
    "def collatz(x):\n",
    "    print(x)\n",
    "    if x == 1:\n",
    "        return\n",
    "    elif x % 2 == 0:\n",
    "        collatz(x//2)\n",
    "    else:\n",
    "        collatz(3*x+1)\n"
   ]
  },
  {
   "cell_type": "code",
   "execution_count": 8,
   "id": "9b67ff41",
   "metadata": {},
   "outputs": [
    {
     "name": "stdout",
     "output_type": "stream",
     "text": [
      "Enter any Positive number: 24\n",
      "1\n",
      "10\n",
      "5\n",
      "16\n",
      "8\n",
      "4\n",
      "2\n",
      "1\n"
     ]
    },
    {
     "data": {
      "text/plain": [
       "1"
      ]
     },
     "execution_count": 8,
     "metadata": {},
     "output_type": "execute_result"
    }
   ],
   "source": [
    "x = int(input(\"Enter any Positive number: \"))\n",
    ">>> collatz(1)\n",
    "1\n",
    ">>> collatz(10)\n",
    "10\n",
    "5\n",
    "16\n",
    "8\n",
    "4\n",
    "2\n",
    "1\n"
   ]
  },
  {
   "cell_type": "markdown",
   "id": "858d7664",
   "metadata": {},
   "source": [
    "## <font color=\"Purple\"> Question - 5: Write a recursive method binary() that takes a non-negative integer n and prints the binary representation of integer n.</font>"
   ]
  },
  {
   "cell_type": "code",
   "execution_count": 9,
   "id": "4a071913",
   "metadata": {},
   "outputs": [],
   "source": [
    "def binary(n):\n",
    "    if n == 0:\n",
    "        return '0'\n",
    "    elif n == 1:\n",
    "        return '1'\n",
    "    else:\n",
    "        return binary(n // 2) + str(n % 2)\n"
   ]
  },
  {
   "cell_type": "code",
   "execution_count": 10,
   "id": "9e21f5d6",
   "metadata": {},
   "outputs": [
    {
     "name": "stdout",
     "output_type": "stream",
     "text": [
      "11\n",
      "10011\n",
      "10100\n",
      "110000\n"
     ]
    }
   ],
   "source": [
    ">>> print(binary(3))\n",
    "0\n",
    ">>> print(binary(19))\n",
    "1\n",
    ">>> print(binary(20))\n",
    "11\n",
    ">>> print(binary(48))\n"
   ]
  },
  {
   "cell_type": "markdown",
   "id": "7093a224",
   "metadata": {},
   "source": [
    "## <font color=\"Purple\"> Question : 6 Implement a class named HeadingParser that can be used to parse an HTML document, and retrieve and print all the headings in the document. You should implement your class as a subclass of HTMLParser, defined in Standard Library module html.parser. When fed a string containing HTML code, your class should print the headings, one per line and in the order in which they appear in the document. Each heading should be indented as follows: an h1 heading should haveindentation 0, and h2 heading should have indentation 1, etc. Test your implementation using w3c.html.</font>\n",
    "\n",
    "### <font color=\"Purple\"> >>> infile = open('w3c.html')</font>\n",
    "### <font color=\"Purple\"> >>> content = infile.read()</font>\n",
    "### <font color=\"Purple\"> >>> infile.close()</font>\n",
    "### <font color=\"Purple\"> >>> hp = HeadingParser()</font>\n",
    "### <font color=\"Purple\"> >>> hp.feed(content)</font>\n",
    "### <font color=\"Purple\"> W3C Mission</font>\n",
    "### <font color=\"Purple\"> Principles</font>"
   ]
  },
  {
   "cell_type": "code",
   "execution_count": 20,
   "id": "14df79c5",
   "metadata": {},
   "outputs": [],
   "source": [
    "from html.parser import HTMLParser\n",
    "\n",
    "class HeadingParser(HTMLParser):\n",
    "    def __init__(self):\n",
    "        super().__init__()\n",
    "        self.heading_level = 0\n",
    "        self.in_heading = False\n",
    "\n",
    "    def handle_starttag(self, tag, attrs):\n",
    "        if tag.startswith('h') and len(tag) == 2:\n",
    "            self.heading_level = int(tag[1])\n",
    "            self.in_heading = True\n",
    "\n",
    "    def handle_endtag(self, tag):\n",
    "        if tag.startswith('h') and len(tag) == 2:\n",
    "            self.heading_level = 0\n",
    "            self.in_heading = False\n",
    "\n",
    "    def handle_data(self, data):\n",
    "        if self.in_heading:\n",
    "            print(' ' * self.heading_level + data)\n"
   ]
  },
  {
   "cell_type": "code",
   "execution_count": 21,
   "id": "99a7faa6",
   "metadata": {},
   "outputs": [
    {
     "name": "stdout",
     "output_type": "stream",
     "text": [
      " W3C Mission\n",
      "  Principles\n"
     ]
    }
   ],
   "source": [
    "infile = open('w3c.html')\n",
    "content = infile.read()\n",
    "infile.close()\n",
    "\n",
    "hp = HeadingParser()\n",
    "hp.feed(content)"
   ]
  },
  {
   "cell_type": "markdown",
   "id": "4d59cb87",
   "metadata": {},
   "source": [
    "## <font color=\"Purple\"> Question : 7 Implement recursive function webdir() that takes as input: a URL (as a string) and non-negative integers depth and indent. Your function should visit every web page reachable from the starting URL web page in depth clicks or less, and print each web page's URL. As shown below, indentation, specified by indent, should be used to indicate the depth of a URL. </font>"
   ]
  },
  {
   "cell_type": "code",
   "execution_count": 24,
   "id": "af0d7b17",
   "metadata": {},
   "outputs": [],
   "source": [
    "from urllib.request import urlopen\n",
    "from urllib.parse import urlparse, urljoin\n",
    "from bs4 import BeautifulSoup\n",
    "\n",
    "def webdir(url, depth, indent):\n",
    "    if depth == 0:\n",
    "        return\n",
    "    try:\n",
    "        page = urlopen(url)\n",
    "    except:\n",
    "        return\n",
    "    soup = BeautifulSoup(page, 'html.parser')\n",
    "    print(' ' * indent + url)\n",
    "    links = soup.find_all('a')\n",
    "    for link in links:\n",
    "        href = link.get('href')\n",
    "        if href.startswith('http'):\n",
    "            new_url = href\n",
    "        else:\n",
    "            new_url = urljoin(url, href)\n",
    "        webdir(new_url, depth-1, indent+1)\n"
   ]
  },
  {
   "cell_type": "code",
   "execution_count": 27,
   "id": "ac2d06a1",
   "metadata": {},
   "outputs": [
    {
     "name": "stdout",
     "output_type": "stream",
     "text": [
      "https://www.codewithharry.com/\n",
      " https://www.codewithharry.com/\n",
      " https://www.codewithharry.com/\n",
      " https://www.codewithharry.com/videos/\n",
      " https://www.codewithharry.com/tutorials/\n",
      " https://www.codewithharry.com/blog/\n",
      " https://www.codewithharry.com/notes/\n",
      " https://www.codewithharry.com/contact/\n",
      " https://www.codewithharry.com/my-gear/\n",
      " https://www.codewithharry.com/work/\n",
      " https://www.codewithharry.com/tutorial/html-home/\n",
      " https://www.codewithharry.com/tutorial/css-home/\n",
      " https://www.codewithharry.com/tutorial/js/\n",
      " https://www.codewithharry.com/tutorial/c/\n",
      " https://www.codewithharry.com/tutorial/cplusplus/\n",
      " https://www.codewithharry.com/tutorial/java/\n",
      " https://www.codewithharry.com/tutorial/python/\n",
      " https://www.codewithharry.com/tutorial/php/\n",
      " https://www.codewithharry.com/tutorial/react-home/\n",
      " https://www.codewithharry.com/\n",
      " https://www.codewithharry.com/videos/\n",
      " https://www.codewithharry.com/tutorial/html-home/\n",
      " https://www.codewithharry.com/tutorial/css-home/\n",
      " https://www.codewithharry.com/tutorial/js/\n",
      " https://www.codewithharry.com/tutorial/c/\n",
      " https://www.codewithharry.com/tutorial/cplusplus/\n",
      " https://www.codewithharry.com/tutorial/java/\n",
      " https://www.codewithharry.com/tutorial/python/\n",
      " https://www.codewithharry.com/tutorial/php/\n",
      " https://www.codewithharry.com/tutorial/react-home/\n",
      " https://www.codewithharry.com/blog/\n",
      " https://www.codewithharry.com/notes/\n",
      " https://www.codewithharry.com/contact/\n",
      " https://www.codewithharry.com/my-gear/\n",
      " https://www.codewithharry.com/work/\n",
      " https://www.facebook.com/codewithharry\n",
      " https://www.twitter.com/codewithharry\n",
      " https://www.instagram.com/codewithharry\n",
      " https://www.github.com/codewithharry\n"
     ]
    }
   ],
   "source": [
    "webdir('https://www.codewithharry.com/', 2, 0)\n"
   ]
  },
  {
   "cell_type": "markdown",
   "id": "2e31179f",
   "metadata": {},
   "source": [
    "## <font color=\"Purple\"> Question : 8 Write SQL queries on the below database table that return:</font>\n"
   ]
  },
  {
   "cell_type": "markdown",
   "id": "6a77cd91",
   "metadata": {},
   "source": [
    "## <font color=\"Purple\"> a) All the temperature data.</font>\n",
    "### <font color=\"Green\"> SELECT Temperature FROM table_temprature;</font>\n",
    "\n",
    "## <font color=\"Purple\"> b) All the cities, but without repetition.</font>\n",
    "### <font color=\"Green\"> SELECT DISTINCT City FROM table_temprature;</font>\n",
    "\n",
    "## <font color=\"Purple\"> c) All the records for India.</font>\n",
    "### <font color=\"Green\"> SELECT * FROM table_temprature WHERE Country='India';</font>\n",
    "\n",
    "## <font color=\"Purple\"> d) All the Fall records.</font>\n",
    "### <font color=\"Green\"> SELECT * FROM table_temprature WHERE Season='Fall';</font>\n",
    "\n",
    "## <font color=\"Purple\"> e) The city, country, and season for which the average rainfall is between 200 and 400 millimeters.</font>\n",
    "### <font color=\"Green\"> SELECT City, Country, Season FROM table_temprature GROUP BY City, Country, Season HAVING AVG(Rainfall) BETWEEN 200 AND 400;</font>\n",
    "\n",
    "## <font color=\"Purple\"> f) The city and country for which the average Fall temperature is above 20 degrees, in increasing temperature order.</font>\n",
    "### <font color=\"Green\"> SELECT City, Country FROM table_temprature WHERE Season='Fall' GROUP BY City, Country HAVING AVG(Temperature) > 20 ORDER BY AVG(Temperature) ASC;</font>\n",
    "\n",
    "## <font color=\"Purple\"> g) The total annual rainfall for Cairo.</font>\n",
    "### <font color=\"Green\"> SELECT SUM(Rainfall) as \"Total Annual Rainfall\" FROM table_temprature WHERE City='Cairo';</font>\n",
    "\n",
    "## <font color=\"Purple\"> h) The total rainfall for each season.</font>\n",
    "### <font color=\"Green\"> SELECT Season, SUM(Rainfall) as \"Total Rainfall\" FROM table_temprature GROUP BY Season;</font>\n"
   ]
  },
  {
   "cell_type": "markdown",
   "id": "d61afd48",
   "metadata": {},
   "source": [
    "## <font color=\"Purple\"> Question : 9 Suppose list words is defined as follows:</font>\n",
    "words = ['The', 'quick', 'brown', 'fox', 'jumps', 'over',\n",
    "'the', 'lazy', 'dog']\n",
    "## <font color=\"Purple\"> Write list comprehension expressions that use list words and generate the following lists:</font>"
   ]
  },
  {
   "cell_type": "markdown",
   "id": "726d6955",
   "metadata": {},
   "source": [
    "### <font color=\"Purple\">a) ['THE', 'QUICK', 'BROWN', 'FOX', 'JUMPS', 'OVER', 'THE', 'LAZY', 'DOG']</font>\n"
   ]
  },
  {
   "cell_type": "code",
   "execution_count": 34,
   "id": "f20d1ff6",
   "metadata": {},
   "outputs": [
    {
     "name": "stdout",
     "output_type": "stream",
     "text": [
      "['THE', 'QUICK', 'BROWN', 'FOX', 'JUMPS', 'OVER', 'THE', 'LAZY', 'DOG']\n"
     ]
    }
   ],
   "source": [
    "new_words = [word.upper() for word in words]\n",
    "print(new_words)\n"
   ]
  },
  {
   "cell_type": "markdown",
   "id": "729b1022",
   "metadata": {},
   "source": [
    "### <font color=\"Purple\"> b) ['the', 'quick', 'brown', 'fox', 'jumps', 'over', 'the', 'lazy', 'dog']</font>"
   ]
  },
  {
   "cell_type": "code",
   "execution_count": 36,
   "id": "13d56dfd",
   "metadata": {},
   "outputs": [
    {
     "name": "stdout",
     "output_type": "stream",
     "text": [
      "['the', 'quick', 'brown', 'fox', 'jumps', 'over', 'the', 'lazy', 'dog']\n"
     ]
    }
   ],
   "source": [
    "new_words = [word.lower() for word in words]\n",
    "print(new_words)"
   ]
  },
  {
   "cell_type": "markdown",
   "id": "2a24e87e",
   "metadata": {},
   "source": [
    "### <font color=\"Purple\"> c) [3, 5, 5, 3, 5, 4, 3, 4, 3] (the list of lengths of words in list words).</font>"
   ]
  },
  {
   "cell_type": "code",
   "execution_count": 38,
   "id": "c91691fe",
   "metadata": {},
   "outputs": [
    {
     "name": "stdout",
     "output_type": "stream",
     "text": [
      "[3, 5, 5, 3, 5, 4, 3, 4, 3]\n"
     ]
    }
   ],
   "source": [
    "lengths = [len(word) for word in words]\n",
    "print(lengths)"
   ]
  },
  {
   "cell_type": "markdown",
   "id": "43413a4d",
   "metadata": {},
   "source": [
    " ### <font color=\"Purple\"> d) [['THE', 'the', 3], ['QUICK', 'quick', 5], ['BROWN', 'brown', 5], ['FOX', 'fox', 3], ['JUMPS', 'jumps', 5], ['OVER', 'over', 4], ['THE', 'the', 3], ['LAZY', 'lazy', 4], ['DOG', 'dog', 3]] (the list containing a list for every word of list words, where each list contains the word in uppercase and lowercase and the length of the word.)</font>"
   ]
  },
  {
   "cell_type": "code",
   "execution_count": 40,
   "id": "f5d0f223",
   "metadata": {},
   "outputs": [
    {
     "name": "stdout",
     "output_type": "stream",
     "text": [
      "[['THE', 'the', 3], ['QUICK', 'quick', 5], ['BROWN', 'brown', 5], ['FOX', 'fox', 3], ['JUMPS', 'jumps', 5], ['OVER', 'over', 4], ['THE', 'the', 3], ['LAZY', 'lazy', 4], ['DOG', 'dog', 3]]\n"
     ]
    }
   ],
   "source": [
    "new_list = [[word.upper(), word.lower(), len(word)] for word in words]\n",
    "print(new_list)"
   ]
  },
  {
   "cell_type": "markdown",
   "id": "9c540cee",
   "metadata": {},
   "source": [
    " ### <font color=\"Purple\"> e) ['The', 'quick', 'brown', 'fox', 'jumps', 'over', 'the', 'lazy', 'dog'] (the list of words in list words containing 4 or more characters.)</font>"
   ]
  },
  {
   "cell_type": "code",
   "execution_count": 41,
   "id": "d31fc1b2",
   "metadata": {},
   "outputs": [
    {
     "name": "stdout",
     "output_type": "stream",
     "text": [
      "['quick', 'brown', 'jumps', 'over', 'lazy']\n"
     ]
    }
   ],
   "source": [
    "new_words = [word for word in words if len(word) >= 4]\n",
    "print(new_words)"
   ]
  }
 ],
 "metadata": {
  "kernelspec": {
   "display_name": "Python 3 (ipykernel)",
   "language": "python",
   "name": "python3"
  },
  "language_info": {
   "codemirror_mode": {
    "name": "ipython",
    "version": 3
   },
   "file_extension": ".py",
   "mimetype": "text/x-python",
   "name": "python",
   "nbconvert_exporter": "python",
   "pygments_lexer": "ipython3",
   "version": "3.9.13"
  }
 },
 "nbformat": 4,
 "nbformat_minor": 5
}
